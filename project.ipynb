{
 "cells": [
  {
   "cell_type": "code",
   "execution_count": 1,
   "id": "a507089a-c3bc-4b2c-868f-ef508875d569",
   "metadata": {},
   "outputs": [
    {
     "name": "stdout",
     "output_type": "stream",
     "text": [
      "Добрый день\n"
     ]
    }
   ],
   "source": [
    "print('Добрый день')"
   ]
  },
  {
   "cell_type": "markdown",
   "id": "dea42e6f-b45f-49f6-97d8-2d170d20901b",
   "metadata": {},
   "source": [
    "## Мой первый коммит\n",
    "\n",
    "  - Создал проект, создал комментарий"
   ]
  },
  {
   "cell_type": "markdown",
   "id": "b5e45a5f-9188-4d5b-85b6-8e38d81134a9",
   "metadata": {},
   "source": [
    "## Создал второй комммт\n"
   ]
  },
  {
   "cell_type": "code",
   "execution_count": 2,
   "id": "a5f3d86f-176e-44c8-a5eb-c1553fb06e55",
   "metadata": {},
   "outputs": [
    {
     "data": {
      "text/plain": [
       "'hello'"
      ]
     },
     "metadata": {},
     "output_type": "display_data"
    }
   ],
   "source": [
    "display ('hello')"
   ]
  },
  {
   "cell_type": "code",
   "execution_count": 3,
   "id": "ce106243-be03-46a5-b9aa-bfc8f7a3a369",
   "metadata": {},
   "outputs": [],
   "source": [
    "#загружаем нужные библиотеки\n",
    "import pandas as pd\n",
    "import matplotlib.pyplot as plt\n",
    "import numpy as np\n",
    "import scipy.stats as st\n",
    "from scipy import stats\n",
    "from math import factorial\n",
    "from scipy.stats import binom, norm\n",
    "import random\n",
    "import plotly.express as px"
   ]
  },
  {
   "cell_type": "code",
   "execution_count": null,
   "id": "e74eb1f5-e77e-4fbb-abb9-eee5ea18d669",
   "metadata": {},
   "outputs": [],
   "source": []
  }
 ],
 "metadata": {
  "kernelspec": {
   "display_name": "Python 3 (ipykernel)",
   "language": "python",
   "name": "python3"
  },
  "language_info": {
   "codemirror_mode": {
    "name": "ipython",
    "version": 3
   },
   "file_extension": ".py",
   "mimetype": "text/x-python",
   "name": "python",
   "nbconvert_exporter": "python",
   "pygments_lexer": "ipython3",
   "version": "3.9.5"
  }
 },
 "nbformat": 4,
 "nbformat_minor": 5
}
