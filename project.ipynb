{
 "cells": [
  {
   "cell_type": "code",
   "execution_count": 1,
   "id": "a507089a-c3bc-4b2c-868f-ef508875d569",
   "metadata": {},
   "outputs": [
    {
     "name": "stdout",
     "output_type": "stream",
     "text": [
      "Добрый день\n"
     ]
    }
   ],
   "source": [
    "print('Добрый день')"
   ]
  },
  {
   "cell_type": "markdown",
   "id": "dea42e6f-b45f-49f6-97d8-2d170d20901b",
   "metadata": {},
   "source": [
    "## Мой первый коммит\n",
    "\n",
    "  - Создал проект, создал комментарий"
   ]
  },
  {
   "cell_type": "markdown",
   "id": "b5e45a5f-9188-4d5b-85b6-8e38d81134a9",
   "metadata": {},
   "source": [
    "## Создал второй комммт\n"
   ]
  },
  {
   "cell_type": "code",
   "execution_count": 2,
   "id": "a5f3d86f-176e-44c8-a5eb-c1553fb06e55",
   "metadata": {},
   "outputs": [
    {
     "data": {
      "text/plain": [
       "'hello'"
      ]
     },
     "metadata": {},
     "output_type": "display_data"
    }
   ],
   "source": [
    "display ('hello')"
   ]
  },
  {
   "cell_type": "code",
   "execution_count": 3,
   "id": "ce106243-be03-46a5-b9aa-bfc8f7a3a369",
   "metadata": {},
   "outputs": [],
   "source": [
    "#загружаем нужные библиотеки\n",
    "import pandas as pd\n",
    "import matplotlib.pyplot as plt\n",
    "import numpy as np\n",
    "import scipy.stats as st\n",
    "from scipy import stats\n",
    "from math import factorial\n",
    "from scipy.stats import binom, norm\n",
    "import random\n",
    "import plotly.express as px"
   ]
  },
  {
   "cell_type": "markdown",
   "id": "df64309c-3cd2-4d89-a88f-41785dcbfa94",
   "metadata": {},
   "source": [
    "# ОТТОК КЛИЕНТОВ\n",
    "\n",
    "## Описание проекта \n",
    "   \n",
    "   - В проекте анализируются исторические данные о поведении клиентов и расторжении договоров с банком и с помощью разных моделей ML формируется прогноз: уйдёт клиент из банка в ближайшее время или нет. \n",
    "  \n",
    "## Используемые инструменты:\n",
    " \n",
    "  - Библиотеки:\n",
    "       - pandas\n",
    "       - sklearn\n",
    "       - numpy\n",
    "       - matplotlib\n",
    "\n",
    "\n",
    "  - Модели ML:\n",
    "       - DecisionTreeClassifier\n",
    "       - RandomForestClassifier\n",
    "       - LogisticRegression \n",
    " \n",
    "## Результаты: \n",
    "\n",
    "   - После подготовки, анализа данных и исследования баланса классов, были активированы и обучены разные модели классификации. \n",
    "   \n",
    "   \n",
    "   \n",
    "   - **Лучшие** показатели **F1-меры(0.6588235294117648)** и **'AUC-ROC'(0.8704296539423148)** были достигнуты у модели **\"Случайный лес\"** с количеством **деревьев: 30**, максимальной **глубиной: 7**, **критерием: \"gini\"**,  **random_state: 12345** и взвешиванием классов. Также удалось избежать переобучения всех трех моделей."
   ]
  },
  {
   "cell_type": "code",
   "execution_count": null,
   "id": "b9229def-5420-46cd-a631-fddd4668216f",
   "metadata": {},
   "outputs": [],
   "source": []
  }
 ],
 "metadata": {
  "kernelspec": {
   "display_name": "Python 3 (ipykernel)",
   "language": "python",
   "name": "python3"
  },
  "language_info": {
   "codemirror_mode": {
    "name": "ipython",
    "version": 3
   },
   "file_extension": ".py",
   "mimetype": "text/x-python",
   "name": "python",
   "nbconvert_exporter": "python",
   "pygments_lexer": "ipython3",
   "version": "3.9.5"
  }
 },
 "nbformat": 4,
 "nbformat_minor": 5
}
