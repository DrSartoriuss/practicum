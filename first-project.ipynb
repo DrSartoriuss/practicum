{
 "cells": [
  {
   "cell_type": "code",
   "execution_count": 1,
   "id": "a507089a-c3bc-4b2c-868f-ef508875d569",
   "metadata": {},
   "outputs": [
    {
     "name": "stdout",
     "output_type": "stream",
     "text": [
      "Добрый день\n"
     ]
    }
   ],
   "source": [
    "print ('Добрый день')"
   ]
  },
  {
   "cell_type": "code",
   "execution_count": null,
   "id": "ba72b67d-ba56-49b7-8bec-b5dc025383db",
   "metadata": {},
   "outputs": [],
   "source": []
  },
  {
   "cell_type": "code",
   "execution_count": null,
   "id": "a6595c3c-850e-4b95-b88d-069caa89da23",
   "metadata": {},
   "outputs": [],
   "source": []
  }
 ],
 "metadata": {
  "kernelspec": {
   "display_name": "Python 3 (ipykernel)",
   "language": "python",
   "name": "python3"
  },
  "language_info": {
   "codemirror_mode": {
    "name": "ipython",
    "version": 3
   },
   "file_extension": ".py",
   "mimetype": "text/x-python",
   "name": "python",
   "nbconvert_exporter": "python",
   "pygments_lexer": "ipython3",
   "version": "3.9.5"
  }
 },
 "nbformat": 4,
 "nbformat_minor": 5
}
